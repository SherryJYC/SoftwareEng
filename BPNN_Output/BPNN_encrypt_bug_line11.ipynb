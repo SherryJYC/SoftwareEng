{
  "cells": [
    {
      "metadata": {
        "_uuid": "8f2839f25d086af736a60e9eeb907d3b93b6e0e5",
        "_cell_guid": "b1076dfc-b9ad-4769-8c92-a6c4dae69d19",
        "trusted": true
      },
      "cell_type": "code",
      "source": "import numpy as np \nimport pandas as pd \nfrom keras.models import Sequential\nfrom keras.layers import Dense\nfrom keras import regularizers\nfrom keras import initializers\nimport matplotlib.pyplot as plt\nfrom keras import optimizers\nimport os\nprint(os.listdir(\"../input/encrypt-bug\"))",
      "execution_count": 2,
      "outputs": [
        {
          "output_type": "stream",
          "text": "['encrypt_bug1.csv']\n",
          "name": "stdout"
        }
      ]
    },
    {
      "metadata": {
        "trusted": true,
        "_uuid": "cbfd486c7594dc19c99178c6c3d4e67e304da5b0"
      },
      "cell_type": "code",
      "source": "coverage = pd.read_csv('../input/sort-bugXJY/sort_bug1.csv')\ncoverage # check coverage information",
      "execution_count": null,
      "outputs": []
    },
    {
      "metadata": {
        "trusted": true,
        "_uuid": "a0dd185c376de0edf930b91145819493180b2d5e"
      },
      "cell_type": "code",
      "source": "def read_coverage(inputstream):\n    coverage = pd.read_csv(inputstream)\n    rows, columns = coverage.shape\n    m = coverage[coverage.columns[1:-1]]\n    m = np.matrix(m)\n    result = coverage[coverage.columns[-1]]\n    result = np.array(result)\n    return m, result, columns-2",
      "execution_count": 3,
      "outputs": []
    },
    {
      "metadata": {
        "trusted": true,
        "_uuid": "20538c82c0f419d6cb98589670d093bbb826016d"
      },
      "cell_type": "code",
      "source": "#######################################\n#           Procedure I               #\n#######################################\n\ndef get_train_data(): # simulate, example in BPNN paper\n    m = np.matrix([\n        [1,1,1,1,0,1,0,0,1],\n        [1,0,0,0,1,1,1,1,0],\n        [0,0,0,0,0,1,1,0,0],\n        [1,1,0,0,1,0,1,1,1],\n        [1,1,1,0,1,1,1,1,1],\n        [0,0,1,0,0,1,1,1,0],\n        [1,1,1,1,0,1,0,1,1]\n    ]).astype(int)\n    result = np.array([0,0,0,0,0,1,1])\n    return m, result\n\ndef create_virtual_test(n):\n    c = np.diag(np.ones(n-1), 1) \n    return c\n\ndef build_model(n_statement):\n    model = Sequential()\n    # input layer is m.size\n    # hidden layer one\n    initiallizer = initializers.RandomUniform(minval=-0.01*n_statement, maxval=0.01*n_statement, seed=None)\n    model.add(Dense(3, input_dim=n_statement, activation='relu', \n                    kernel_initializer= initiallizer,\n                    bias_initializer='zeros',\n                    kernel_regularizer=regularizers.l2(0.01)))\n    # hidden layer \n#     model.add(Dense(3, activation='sigmoid', \n#                     kernel_regularizer=regularizers.l2(0.01)\n#                    ))\n    # output layer\n    model.add(Dense(1, activation='sigmoid'))\n    \n    return model    \n\n\ndef train_model(m,result,n_statement,epochs, lr):\n    model = build_model(n_statement)\n    sgd = optimizers.SGD(lr=lr, decay=1e-6, momentum=0.9, nesterov=True)\n    #rmsprop = optimizers.RMSprop(lr=lr, rho=0.9, epsilon=None, decay=0.0)\n    model.compile(loss='binary_crossentropy', optimizer= sgd, metrics=['accuracy'])\n    history = model.fit(m, result, epochs=epochs) #  batch_size=10\n\n    # summarize history for accuracy\n#     plt.plot(history.history['acc'])\n#     plt.title('model accuracy')\n#     plt.ylabel('accuracy')\n#     plt.xlabel('epoch')\n#     plt.legend(['train', 'test'], loc='upper left')\n#     plt.show()\n    # summarize history for loss\n    plt.plot(history.history['loss'])\n    plt.title('model loss')\n    plt.ylabel('loss')\n    plt.xlabel('epoch')\n    plt.legend(['train', 'test'], loc='upper left')\n    plt.show()\n    return model\n\ndef selectionSort(rlist):\n    index = [x for x in range(len(rlist))]\n    rank = [x for x in range(len(rlist))]\n    for i in range(len(index)):\n        idx = i\n        j = i+1\n        while j > i and j < len(index):\n            if (rlist[idx] < rlist[j]):\n                idx = j\n            j+=1\n        rlist[i],rlist[idx] = swap(rlist[i],rlist[idx])\n        index[i], index[idx] = index[idx], index[i]\n        i+=1\n    return rank, index\n\ndef swap(a,b): # just for np.array\n    temp = a.copy()\n    a = b\n    b = temp\n    return a, b\n\n#######################################\n#           Procedure II              #\n#######################################\n\ndef find_si(m, result, n_statement):\n    si = np.zeros(n_statement)\n    for i in range(result.size):\n        if result[i] == 0:  \n            continue\n        for j in range(n_statement):\n            if m[i,j] == 0: \n                si[j]-=10000 # assume n_statement < 10000\n            else:\n                si[j]+=1\n    for j in range(n_statement):\n        if (si[j] <= 0): si[j] = 0\n        else: si[j] = 1\n    return si\n\ndef find_sm(m, result):\n    t = np.zeros(result.size)\n    minidx = 0\n    minsum = 10000 # assume n_statement < 10000\n    for i in range(result.size):\n        if result[i] == 0:  \n            continue\n        t[i] = np.sum(m[i])\n        if t[i] < minsum:\n            minsum = t[i]\n            minidx = i\n    sm = m[minidx]\n    return sm\n\ndef procedure1(r_virtual):\n    r_virtual1 = r_virtual.copy()\n    rank, index= selectionSort(r_virtual1)\n    print(\"Procedure I\")\n    for i in range(len(rank)):\n        print(\"Statement {:>2}: {:>4}\".format(index[i]+1,rank[i]+1))\n        \ndef procedure2(r_virtual): # improvement suggested in paper\n    r_virtual2 = r_virtual.copy()\n    print(\"Procedure II (improvement)\")\n    # Procedure II\n    si = find_si(m,result,n_statement)\n    sm = find_sm(m,result)\n    for i in range(len(si)):\n        if(si[i] != 0 and sm[0,i] != 0):\n            r_virtual2[i] +=2.0\n            print(\"Statement {:>2} should be checked firstly (Si)\".format(i+1))\n        if(si[i] == 0 and sm[0,i] == 1):\n            r_virtual2[i] +=1.0\n            print(\"Statement {:>2} should be checked secondly (Sm)\".format(i+1))\n    rank, index= selectionSort(r_virtual2)\n    print(\"Final Result\")\n    for i in range(len(rank)):\n        print(\"Statement {:>2}: {:>4}\".format(index[i]+1,rank[i]+1))\n    ",
      "execution_count": 8,
      "outputs": []
    },
    {
      "metadata": {
        "_cell_guid": "79c7e3d0-c299-4dcb-8224-4455121ee9b0",
        "_uuid": "d629ff2d2480ee46fbb7e2d37f6b5fab8052498a",
        "trusted": true,
        "scrolled": true
      },
      "cell_type": "code",
      "source": "if __name__ == '__main__':\n    inputstream = '../input/encrypt-bug/encrypt_bug1.csv'\n    #n_statement = 90\n    epochs = 3000\n    lr = 0.03\n    #m, result = get_train_data()\n    m, result,n_statement = read_coverage(inputstream)\n    trained_model = train_model(m,result, n_statement,epochs, lr)\n    c_virtual = create_virtual_test(n_statement)\n    r_virtual = trained_model.predict(c_virtual, batch_size=None, verbose=0, steps=None)\n    procedure1(r_virtual)\n    procedure2(r_virtual)",
      "execution_count": null,
      "outputs": []
    },
    {
      "metadata": {
        "trusted": true,
        "_uuid": "cc91a463f974213cbd3f82ba3d7b69678e177ef8"
      },
      "cell_type": "code",
      "source": "",
      "execution_count": null,
      "outputs": []
    }
  ],
  "metadata": {
    "kernelspec": {
      "display_name": "Python 3",
      "language": "python",
      "name": "python3"
    },
    "language_info": {
      "name": "python",
      "version": "3.6.6",
      "mimetype": "text/x-python",
      "codemirror_mode": {
        "name": "ipython",
        "version": 3
      },
      "pygments_lexer": "ipython3",
      "nbconvert_exporter": "python",
      "file_extension": ".py"
    }
  },
  "nbformat": 4,
  "nbformat_minor": 1
}