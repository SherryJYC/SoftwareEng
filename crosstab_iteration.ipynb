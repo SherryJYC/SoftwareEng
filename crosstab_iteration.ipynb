{
 "cells": [
  {
   "cell_type": "code",
   "execution_count": 34,
   "metadata": {},
   "outputs": [],
   "source": [
    "import numpy as np\n",
    "import pandas as pd\n",
    "import os\n",
    "from scipy.stats import chi2_contingency as chi2\n",
    "import math "
   ]
  },
  {
   "cell_type": "code",
   "execution_count": 48,
   "metadata": {},
   "outputs": [],
   "source": [
    "\n",
    "def pd.DataFrame findStatis(coverage):\n",
    "    totalS = len(coverage.loc[0,:])-1\n",
    "    \n",
    "    df = pd.DataFrame(np.nan,index=coverage.index,columns = ['s','r'])\n",
    "    result = pd.DataFrame(np.nan, index = range(1,totalS), columns = ['chi-square','M','proportion','suspicious'])\n",
    "    \n",
    "    print(len(coverage.loc[0,:]))\n",
    "    \n",
    "    row = 1\n",
    "    for i in range(1,totalS):\n",
    "        df['s'] = coverage.iloc[:,i]\n",
    "        df['r'] = coverage['r']\n",
    "        s1_tab = pd.crosstab(index=df['s'],columns=df['r'],margins=True)\n",
    "        s1_tab.index = ['uncovered','covered','coltotal']\n",
    "        s1_tab.columns = ['passed','failed','rowtotal']\n",
    "        print(s1_tab)\n",
    "        \n",
    "        stats, p, dof, expected = chi2(s1_tab)\n",
    "        N = s1_tab.iloc[2]['rowtotal']\n",
    "        m = stats/N\n",
    "        \n",
    "        proportion = s1_tab.iloc[1]['failed']/s1_tab.iloc[2]['failed']/(s1_tab.iloc[1]['passed']/s1_tab.iloc[2]['passed'])\n",
    "        \n",
    "        if proportion == 1:\n",
    "            final = 0\n",
    "        elif proportion < 1:\n",
    "             final = -m\n",
    "        else: final = m\n",
    "        \n",
    "        result.loc[row] = np.array([stats,m,proportion,final])\n",
    "        row+=1\n",
    "  \n",
    "    return result"
   ]
  },
  {
   "cell_type": "code",
   "execution_count": 50,
   "metadata": {},
   "outputs": [
    {
     "name": "stdout",
     "output_type": "stream",
     "text": [
      "12\n",
      "           passed  failed  rowtotal\n",
      "uncovered      11       0        11\n",
      "covered        16       9        25\n",
      "coltotal       27       9        36\n",
      "           passed  failed  rowtotal\n",
      "uncovered      10       7        17\n",
      "covered        17       2        19\n",
      "coltotal       27       9        36\n",
      "           passed  failed  rowtotal\n",
      "uncovered      13       5        18\n",
      "covered        14       4        18\n",
      "coltotal       27       9        36\n",
      "           passed  failed  rowtotal\n",
      "uncovered      13       6        19\n",
      "covered        14       3        17\n",
      "coltotal       27       9        36\n",
      "           passed  failed  rowtotal\n",
      "uncovered      17       3        20\n",
      "covered        10       6        16\n",
      "coltotal       27       9        36\n",
      "           passed  failed  rowtotal\n",
      "uncovered      16       5        21\n",
      "covered        11       4        15\n",
      "coltotal       27       9        36\n",
      "           passed  failed  rowtotal\n",
      "uncovered      11       5        16\n",
      "covered        16       4        20\n",
      "coltotal       27       9        36\n",
      "           passed  failed  rowtotal\n",
      "uncovered      13       0        13\n",
      "covered        14       9        23\n",
      "coltotal       27       9        36\n",
      "           passed  failed  rowtotal\n",
      "uncovered       9       2        11\n",
      "covered        18       7        25\n",
      "coltotal       27       9        36\n",
      "           passed  failed  rowtotal\n",
      "uncovered      16       3        19\n",
      "covered        11       6        17\n",
      "coltotal       27       9        36\n",
      "    chi-square         M  proportion  suspicious\n",
      "1     5.280000  0.146667    1.687500    0.146667\n",
      "2     4.495356  0.124871    0.352941   -0.124871\n",
      "3     0.148148  0.004115    0.857143   -0.004115\n",
      "4     0.928793  0.025800    0.642857   -0.025800\n",
      "5     2.400000  0.066667    1.800000    0.066667\n",
      "6     0.038095  0.001058    1.090909    0.001058\n",
      "7     0.600000  0.016667    0.750000   -0.016667\n",
      "8     6.782609  0.188406    1.928571    0.188406\n",
      "9     0.392727  0.010909    1.166667    0.010909\n",
      "10    1.820433  0.050568    1.636364    0.050568\n",
      "None\n"
     ]
    }
   ],
   "source": [
    "if __name__ ==\"__main__\":\n",
    "    s = 'E:\\\\1819SEM1\\\\SoftwareEngineering'\n",
    "    os.chdir(s)\n",
    "    coverage = pd.read_csv('coverage.csv')\n",
    "    result = findStatis(coverage)\n",
    "    print(result)\n",
    "        "
   ]
  }
 ],
 "metadata": {
  "kernelspec": {
   "display_name": "Python 3",
   "language": "python",
   "name": "python3"
  },
  "language_info": {
   "codemirror_mode": {
    "name": "ipython",
    "version": 3
   },
   "file_extension": ".py",
   "mimetype": "text/x-python",
   "name": "python",
   "nbconvert_exporter": "python",
   "pygments_lexer": "ipython3",
   "version": "3.7.0"
  }
 },
 "nbformat": 4,
 "nbformat_minor": 2
}
